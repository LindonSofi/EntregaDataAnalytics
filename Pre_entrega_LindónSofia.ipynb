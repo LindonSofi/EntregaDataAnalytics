{
  "nbformat": 4,
  "nbformat_minor": 0,
  "metadata": {
    "colab": {
      "provenance": []
    },
    "kernelspec": {
      "name": "python3",
      "display_name": "Python 3"
    },
    "language_info": {
      "name": "python"
    }
  },
  "cells": [
    {
      "cell_type": "markdown",
      "source": [
        "Pre-Entrega Lindon Sofia.\n",
        "\n",
        "DataSets: 'ventas.csv', 'clientes.csv', 'marketing.csv' (todo se encuentra en la carpeta del drive)\n",
        "\n"
      ],
      "metadata": {
        "id": "mIWXgP9QQl8d"
      }
    },
    {
      "cell_type": "markdown",
      "source": [
        "# Recopilacion y Preparacion de Datos"
      ],
      "metadata": {
        "id": "QjyyCQ2n1FGL"
      }
    },
    {
      "cell_type": "markdown",
      "source": [
        "--------Entorno y carga de datos---------"
      ],
      "metadata": {
        "id": "kafUZBy3RoWa"
      }
    },
    {
      "cell_type": "code",
      "execution_count": null,
      "metadata": {
        "id": "EnMJ5HoGPzFP"
      },
      "outputs": [],
      "source": [
        "import panda as pd\n",
        "import IPython.display as display\n",
        "import numpy as np"
      ]
    },
    {
      "cell_type": "code",
      "source": [
        "#Montar la unidad\n",
        "from google.colab import drive\n",
        "drive.mount('/content/drive')\n",
        "#Verifico los archivos dentro de la carpeta datasets\n",
        "import os\n",
        "os.listdir('/content/drive/MyDrive/DataSets')"
      ],
      "metadata": {
        "id": "Rz74LemjR1HM"
      },
      "execution_count": null,
      "outputs": []
    },
    {
      "cell_type": "code",
      "source": [
        "#Rutas de datasets\n",
        "ruta_ventas = '/content/drive/MyDrive/DataSets/ventas.csv '\n",
        "ruta_clientes = '/content/drive/MyDrive/DataSets/clientes.csv'\n",
        "ruta_marketing = '/content/drive/MyDrive/DataSets/marketing.csv'\n",
        "\n",
        "#Cargar CVS como DataFrames\n",
        "ventas = pd.read_csv(ruta_ventas)\n",
        "clientes = pd.read_csv(ruta_clientes)\n",
        "marketing = pd.read_csv(ruta_marketing)\n",
        "\n",
        "#Validacion para confirmar la carga y mostrarlo\n",
        "print(ventas.head(5))\n",
        "print(clientes.head(5))\n",
        "print(marketing.head(5))\n",
        "\n",
        "print(\"ventas.shape ->\", ruta_ventas)\n",
        "print(\"clientes.shape ->\", ruta_clientes)\n",
        "print(\"marketing.shape ->\", ruta_marketing)"
      ],
      "metadata": {
        "id": "BhnVX9QNSCot"
      },
      "execution_count": null,
      "outputs": []
    },
    {
      "cell_type": "markdown",
      "source": [
        "-------Análisis exploratorio----------"
      ],
      "metadata": {
        "id": "5tiL_3NkWK-_"
      }
    },
    {
      "cell_type": "code",
      "source": [
        "#Informacion general de las tablas\n",
        "\n",
        "print(\"INFORMACIÓN VENTAS\")\n",
        "print(ventas.info())\n",
        "print(\"\\nINFORMACION CLIENTES\")\n",
        "print(clientes.info())\n",
        "print(\"\\nINFORMACIÓN MARKETING\\n\")\n",
        "print(marketing.info())\n",
        "\n",
        "print(\"\\nSHAPE Y COLUMNAS\")\n",
        "#ventas\n",
        "print(\"ventas:\", ventas.shape, ventas.columns.tolist())\n",
        "#clientes\n",
        "print(\"clientes:\", clientes.shape, clientes.columns.tolist())\n",
        "#marketing\n",
        "print(\"marketing:\", marketing.shape, marketing.columns.tolist())\n",
        "\n",
        "print(\"\\nTIPOS DE DATOS\")\n",
        "print(\"Ventas:\\n\"ventas.dtypes)\n",
        "print(\"\\nClientes:\\n\"clientes.dtypes)\n",
        "print(\"\\nMarketing:\\n\"marketing.dtypes)\n",
        "\n",
        "#Muestro si hay algun valor nulo y si hay valores unicos por columna\n",
        "print(\"\\nVALORES NULOS\")\n",
        "print(\"Ventas:\\n\"ventas.isnull().sum())\n",
        "print(\"\\nClientes:\\n\"clientes.isnull().sum())\n",
        "print(\"\\nMarketing:\\n\"marketing.isnull().sum())\n",
        "\n",
        "print(\"\\n VALORES UNICOS\")\n",
        "print(\"Ventas:\\n\", ventas.nunique())\n",
        "print(\"\\nClientes:\\n\", clientes.nunique())\n",
        "print(\"\\nMarketing:\\n\", marketing.nunique())\n"
      ],
      "metadata": {
        "id": "8K7qRgcsWSe1"
      },
      "execution_count": null,
      "outputs": []
    },
    {
      "cell_type": "markdown",
      "source": [
        "-------Calidad de los datos------"
      ],
      "metadata": {
        "id": "t_cjQ7_tcIPE"
      }
    },
    {
      "cell_type": "code",
      "source": [
        "#Funcion de calidad de datos.\n",
        "\n",
        "#Tome la decision de definir una funcion calidad_dato para poder comprobar los valores nulos y duplicados de mis DataSets\n",
        "\n",
        "def calidad_datos(df, nombre, clave=None):\n",
        "print(f\"Calidad de datos para {nombre}\")\n",
        "\n",
        "#cantidad de valores nulos\n",
        "print(\"\\nValores nulos por columna:\")\n",
        "print(df.isnull().sum())\n",
        "display(nulos[nulos > 0].to_frame(\"nulos\")) #muestra solo las columnas que si tienen nulos\n",
        "\n",
        "#cantidad de duplicados\n",
        "dup_rows = df.duplicated().sum()\n",
        "print(f\"Duplicados por fila: {dup_rows}\")\n",
        "\n",
        "#Duplicados por clave\n",
        "print(\"\\nAnálisis de clave:\")\n",
        "if clave and clave in df.columns:\n",
        "  dup_clave = df[clave].duplicated(keep=False).sum() #Se cuentan todas las apariciones de un duplicado\n",
        "  print(f\"Duplicados por clave '{clave}': {dup_clave}\")\n",
        "else:\n",
        "  posibles_claves = [col for col in df.columns if df.[col].is_unique]\n",
        "    if posibles_claves:\n",
        "      print(\"Columnas posiblemente unicas:\")\n",
        "      print(posibles_claves)\n",
        "    else:\n",
        "      print(\"No se encontraron columnas unicas.\")\n",
        "\n"
      ],
      "metadata": {
        "id": "rx2NmOacZe0X"
      },
      "execution_count": null,
      "outputs": []
    },
    {
      "cell_type": "code",
      "source": [
        "#Muestra de uso\n",
        "calidad_datos(ventas, \"ventas\", \"id_venta\")\n",
        "calidad_datos(clientes, \"clientes\", \"id_cliente\")\n",
        "calidad_datos(marketing, \"marketing\", \"id_campanha\")\n",
        "calidad_datos(marketing, \"marketing\") # Para probar la sugerencia de claves\n",
        "\n",
        "#Observaciones\n",
        "#Ventas\n",
        "#Se encontraron 2 valores nulos en precio y cantidad.\n",
        "#Se encontraron 35 filas duplicadas."
      ],
      "metadata": {
        "id": "8zJBOvPRyzpP"
      },
      "execution_count": null,
      "outputs": []
    },
    {
      "cell_type": "markdown",
      "source": [
        "# Preprocesamiento y limpieza de Datos"
      ],
      "metadata": {
        "id": "b7kMSt741QcM"
      }
    },
    {
      "cell_type": "markdown",
      "source": [
        "Limpieza de datos"
      ],
      "metadata": {
        "id": "o1DQ59RI1YHK"
      }
    },
    {
      "cell_type": "code",
      "source": [
        "#Eliminar duplicados --> .drop.duplicates()\n",
        "\n",
        "def eliminar_duplicados(df, clave, nombre=\"\"):\n",
        "\n",
        "  filas_antes = df.shape[0]\n",
        "  df_limpio = df.drop_duplicates(subset=[clave], kep='first') #toma la primera aparicion\n",
        "  filas_despues = df_limpio.shape[0]\n",
        "  filas_eliminadas = filas_antes - filas\n",
        "\n",
        "  print(\"Limpieza duplicados [{nombre_df}]\")\n",
        "  print(\"\\nFilas antes: {filas_antes}\")\n",
        "  print(\"\\nFilas despues: {filas_despues}\")\n",
        "  print(\"\\nFilas eliminadas: {filas_eliminadas}\")\n",
        "\n",
        "  return df_limpio"
      ],
      "metadata": {
        "id": "Qz8eAkeI1afD"
      },
      "execution_count": null,
      "outputs": []
    },
    {
      "cell_type": "code",
      "source": [
        "#Implementacion de la funcion\n",
        "ventas_limpio = eliminar_duplicados(ventas, \"id_venta\", \"ventas\")\n",
        "clientes_limpio = eliminar_duplicados(clientes, \"id_cliente\", \"clientes\n",
        "marketing_limpio = eliminar_duplicados(marketing, \"id_campanha\", \"marketing\")\n",
        "\n",
        "#Observacion con ventas\n",
        "#Se eliminaron 35 filas duplicadas."
      ],
      "metadata": {
        "id": "1Ik2chlu2_k7"
      },
      "execution_count": null,
      "outputs": []
    },
    {
      "cell_type": "code",
      "source": [
        "#Limpiar espacios --> .str.strip()(eliminar espacios al principio y al final)\n",
        "\n",
        "def limpiar_espacios(df, columnas_texto):\n",
        "\n",
        "df_copia = df_limpio.copy() #se hace una copia\n",
        "\n",
        "for columna in columnas_texto:\n",
        "  if columna in df_copia.columns:\n",
        "    #verifico que sea tipo string o object\n",
        "    if pd.api.types.is_string_dtype(df_copia[columna]):\n",
        "      df_copia[columna] = df_copia[columna].str.strip()\n",
        "      print(\"\\nLimpieza de espacios [{columna}]: .str.strip() aplicado\")\n",
        "    else:\n",
        "      print(f\"\\nLimpieza de espacios [{columna}]: No es una columna de texto\")\n",
        "  else:\n",
        "    print(f\"\\nLimpieza de espacios [{columna}]: No existe en el DataFrame\")\n",
        "\n",
        "  return df_copia"
      ],
      "metadata": {
        "id": "AEujAEJZ4DxI"
      },
      "execution_count": null,
      "outputs": []
    },
    {
      "cell_type": "code",
      "source": [
        "#Ejecucion\n",
        "\n",
        "limpiar_espacios = limpiar_espacios(ventas_limpio, [\"producto\"])\n",
        "limpiar_espacios = limpiar_espacios(clientes_limpio, [\"nombre\", \"apellido\"])\n",
        "limpiar_espacios = limpiar_espacios(marketing_limpio, [\"producto\"])"
      ],
      "metadata": {
        "id": "oeZWUQat5bhx"
      },
      "execution_count": null,
      "outputs": []
    },
    {
      "cell_type": "code",
      "source": [
        "#Reemplazar caracteres --> .str.replace()\n",
        "\n",
        "def reemplazar_caracteres(df, columnas_texto, texto_a_buscar, texto_nuevo):\n",
        "\n",
        "  df_copia = df_limpio.copy()\n",
        "\n",
        "  for columna in columnas_texto:\n",
        "    if columna in df_copia.columns:\n",
        "      if pd.api.types.is_string_dtype(df_copia[columna]):\n",
        "        df_copia[columna] = df_copia[columna].str.replace(texto_a_buscar, texto_nuevo)\n",
        "        print(f\"\\nReemplazo de caracteres [{columna}]: '{texto_a_buscar}' por '{texto_nuevo}'\")\n",
        "      else:\n",
        "        print(f\"\\nReemplazo de caracteres [{columna}]: No es una columna de texto\")\n",
        "    else:\n",
        "      print(f\"\\nReemplazo de caracteres [{columna}]: No existe en el DataFrame\")\n",
        "\n",
        "  return df_copia\n",
        "\n"
      ],
      "metadata": {
        "id": "3aLtTEgp54uo"
      },
      "execution_count": null,
      "outputs": []
    },
    {
      "cell_type": "code",
      "source": [
        "#Ejecucion\n",
        "\n",
        "reemplazar_caracteres = reemplazar_caracteres(ventas_limpio, columnas_texto=['precio_texto'], texto_a_buscar='$', texto_nuevo='')\n"
      ],
      "metadata": {
        "id": "mvACvr-e7f4L"
      },
      "execution_count": null,
      "outputs": []
    },
    {
      "cell_type": "markdown",
      "source": [
        "-----Transformacion de datos--------\n"
      ],
      "metadata": {
        "id": "TNrgueAz-IKQ"
      }
    },
    {
      "cell_type": "code",
      "source": [
        "#Funcion para transformar. Tomo ventas como ejemplo, sabiendo que tengo cantidad y precio por separado, uso la funcion para crear una columna ingresos para poder calcular el rendimiento\n",
        "\n",
        "\n",
        "def calcular_ingreso(def, columna_cantidad, columna_precio):\n",
        "  df_copia = df_limpio.copy()\n",
        "\n",
        "#verifico las columnas para asegurarme que sean numericas ambas\n",
        "df_copia[columna_cantidad] = pd.to_numeric(df_copia[columna_cantidad], errors='coerce')#se convertiria en un error Nan\n",
        "df_copia[columna_precio] = pd.to_numeric(df_copia[columna_precio], errors='coerce')\n",
        "\n",
        "df_copia['ingreso'] = df_copia[columna_cantidad] * df_copia[columna_precio]#transformo la nueva columna\n",
        "\n",
        "print(\"Columna 'Ingreso' creada con exito, (total: ${df_copia['Ingresos?].sum():,..2f})\")\n",
        "\n",
        "return df_copia\n"
      ],
      "metadata": {
        "id": "QKI73sn5-LC-"
      },
      "execution_count": null,
      "outputs": []
    },
    {
      "cell_type": "code",
      "source": [
        "#Funcion para filtrar\n",
        "#Analiza las ventas por producto y filtra aquellos que superan el percentil indicado (por defecto, 0.8 o el 80%).\n",
        "\n",
        "def filtrar_producto(df_venta_con_ingresos, columna_producto, columna_ingresos, percentil=0.8):\n",
        "\n",
        "  print(\"Ventas por producto (Top {(1-percentil)*100:.0f}%)\")\n",
        "\n",
        "  #Calcular total de ingresos por producto\n",
        "  ingresos_por_producto = df_venta_con_ingresos.groupby(columna_producto)[columna_ingresos].sum().to_frame(\"ingresos_totales\")\n",
        "\n",
        "  #Calcular porcentaje 0.8\n",
        "  porcentaje = ventas_por_producto[\"ingresos_totales\"].quantile(percentil)\n",
        "\n",
        "  print(\"\\nUmbral de alto rendimiento (Percentil {percentil*100:.0f}%): ${umbral:,.2f}\")\n",
        "\n",
        "  #Filtrar usando .query()\n",
        "  productos_alto_rendimiento = ingresos_por_producto.query(\"{columna_ingresos} >= {umbral}\")\n",
        "\n",
        "  #Ordenar de forma descendente\n",
        "  productos_alto_rendimiento = productos_alto_rendimiento.sort_values(by=\"columna_ingresos\", ascending=False)\n",
        "\n",
        "  print(productos_alto_rendimiento)\n",
        "\n",
        "  return productos_alto_rendimiento"
      ],
      "metadata": {
        "id": "KpXhQy_4B62z"
      },
      "execution_count": null,
      "outputs": []
    },
    {
      "cell_type": "code",
      "source": [
        "#Ejecucion de las funciones con la tabla ventas\n",
        "\n",
        "# ----- PASO 1: TRANSFORMACIÓN -----\n",
        "ventas_con_ingresos = calcular_ingresos_ventas(df_ventas, columna_cantidad='cantidad', columna_precio='precio')\n",
        "\n",
        "# ----- PASO 2: FILTRO -----\n",
        "tabla_alto_rendimiento = filtrar_productos_alto_rendimiento(df_ventas_con_ingresos, columna_producto='producto', columna_ingresos='ingresos', percentil=0.8)\n",
        "\n",
        "# ----- PASO 3: RESULTADO -----\n",
        "print(\"\\n### Tabla de Productos de Alto Rendimiento ###\")\n",
        "display(tabla_alto_rendimiento)"
      ],
      "metadata": {
        "id": "we6coxh7GUrW"
      },
      "execution_count": null,
      "outputs": []
    },
    {
      "cell_type": "markdown",
      "source": [
        "------Agregacion-------\n"
      ],
      "metadata": {
        "id": "au74xWahJI6n"
      }
    },
    {
      "cell_type": "code",
      "source": [
        "#Funcion para resumir ventas\n",
        "\n",
        "def resumir_venta(df, columna_categoria, columna_valor):\n",
        "\n",
        "  df_copia = df_limpio.copy()\n",
        "\n",
        "  print(\"Resumen de ventas por categoría: '{columna_categoria}'\")\n",
        "\n",
        "  #Verificamos que sean ambas columnas numericas\n",
        "  df_copia[columna_valor] = pd.to_numeric(df_copia[columna_valor], errors='coerce')\n",
        "  # Si hubo errores de conversión (texto), esos valores se vuelven NaN. Los quitamos.\n",
        "  df_copia = df_copia.dropna(subset=[columna_valor])\n",
        "\n",
        "  #agrupar y agregar\n",
        "  resumen_ventas = df_copia.groupby(columna_categoria)[columna_valor].agg(['sum', 'mean', 'count'])\n",
        "  #Los grupos importantes primero\n",
        "  resumen_ventas = resumen_ventas.sort_values(by='ingresos_totales', ascending=False)\n",
        "\n",
        "  resumen = resumen.style.format({'ingresos_totales': '{:,.2f}', 'ingresos_promedio': '{:,.2f}'})\n",
        "\n",
        "  return resumen"
      ],
      "metadata": {
        "id": "uKKx51X_JL8G"
      },
      "execution_count": null,
      "outputs": []
    },
    {
      "cell_type": "code",
      "source": [
        "#Ejecucion de la funcion\n",
        "\n",
        "resumen_ventas = resumir_ventas(df_ventas_con_ingresos, columna_categoria='categoria', columna_valor='ingresos)\n",
        "\n",
        "print(\"Ingresos por categoria\")\n",
        "display(resumen_ventas)\n"
      ],
      "metadata": {
        "id": "KOIHq4dcMb2E"
      },
      "execution_count": null,
      "outputs": []
    }
  ]
}
